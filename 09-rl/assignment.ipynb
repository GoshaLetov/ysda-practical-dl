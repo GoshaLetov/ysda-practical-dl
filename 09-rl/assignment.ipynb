{
 "cells": [
  {
   "cell_type": "markdown",
   "source": [],
   "metadata": {
    "id": "33ZpOwK7Jw6k"
   }
  },
  {
   "cell_type": "code",
   "source": [
    "from IPython.display import clear_output\n",
    "\n",
    "def install_xvfb():\n",
    "    import os\n",
    "    import sys\n",
    "\n",
    "    if 'google.colab' in sys.modules and not os.path.exists('.setup_complete'):\n",
    "        !wget -q https://raw.githubusercontent.com/yandexdataschool/Practical_RL/master/setup_colab.sh -O- | bash\n",
    "        !touch .setup_complete\n",
    "\n",
    "    # This code creates a virtual display to draw game images on.\n",
    "    # It will have no effect if your machine has a monitor.\n",
    "    if type(os.environ.get(\"DISPLAY\")) is not str or len(os.environ.get(\"DISPLAY\")) == 0:\n",
    "        !bash ../xvfb start\n",
    "        os.environ['DISPLAY'] = ':1'\n",
    "\n",
    "    clear_output()"
   ],
   "metadata": {
    "id": "0cBUiZBeaEmm"
   },
   "execution_count": null,
   "outputs": []
  },
  {
   "cell_type": "code",
   "execution_count": null,
   "metadata": {
    "id": "nRAH__SXxsQ3"
   },
   "outputs": [],
   "source": [
    "%matplotlib inline\n",
    "\n",
    "install_xvfb()\n",
    "\n",
    "import torch\n",
    "import torch.nn as nn\n",
    "\n",
    "import numpy as np\n",
    "import matplotlib.pyplot as plt"
   ]
  },
  {
   "cell_type": "markdown",
   "source": [
    "# Task 1. MountainCar"
   ],
   "metadata": {
    "id": "T4yvrw2ETBvk"
   }
  },
  {
   "cell_type": "markdown",
   "metadata": {
    "id": "rgY8z5E5xsQ5"
   },
   "source": [
    "## OpenAI Gym\n",
    "\n",
    "We're gonna spend several next weeks learning algorithms that solve decision processes. We are then in need of some interesting decision problems to test our algorithms.\n",
    "\n",
    "That's where OpenAI Gym comes into play. It's a Python library that wraps many classical decision problems including robot control, videogames and board games.\n",
    "\n",
    "So here's how it works:"
   ]
  },
  {
   "cell_type": "code",
   "execution_count": null,
   "metadata": {
    "id": "ZjojQ0ojxsQ5",
    "colab": {
     "base_uri": "https://localhost:8080/"
    },
    "outputId": "b890b671-30e3-40da-adf5-c63deac61f65"
   },
   "outputs": [
    {
     "output_type": "stream",
     "name": "stdout",
     "text": [
      "Observation space: Box([-1.2  -0.07], [0.6  0.07], (2,), float32)\n",
      "Action space: Discrete(3)\n"
     ]
    }
   ],
   "source": [
    "import gym\n",
    "\n",
    "env = gym.make('MountainCar-v0'); env.reset()\n",
    "\n",
    "print(\"Observation space:\", env.observation_space)\n",
    "print(\"Action space:\", env.action_space)"
   ]
  },
  {
   "cell_type": "code",
   "source": [
    "plt.imshow(env.render('rgb_array'))\n",
    "plt.show()"
   ],
   "metadata": {
    "colab": {
     "base_uri": "https://localhost:8080/",
     "height": 396
    },
    "id": "AjgYir9XVYJ4",
    "outputId": "131e9de2-5b2e-45e7-9816-4868487214de"
   },
   "execution_count": null,
   "outputs": [
    {
     "output_type": "display_data",
     "data": {
      "text/plain": [
       "<Figure size 640x480 with 1 Axes>"
      ],
      "image/png": "[encoded data removed]"
     },
     "metadata": {}
    }
   ]
  },
  {
   "cell_type": "markdown",
   "metadata": {
    "id": "4P08PkraxsQ6"
   },
   "source": [
    "Note: if you're running this on your local machine, you'll see a window pop up with the image above. Don't close it, just alt-tab away."
   ]
  },
  {
   "cell_type": "markdown",
   "metadata": {
    "id": "vRTsnSEGxsQ6"
   },
   "source": [
    "## Gym interface\n",
    "\n",
    "The three main methods of an environment are\n",
    "* `reset()`: reset environment to the initial state, _return first observation_\n",
    "* `render()`: show current environment state (a more colorful version :) )\n",
    "* `step(a)`: commit action `a` and return `(new_observation, reward, is_done, info)`\n",
    " * `new_observation`: an observation right after committing the action `a`\n",
    " * `reward`: a number representing your reward for committing action `a`\n",
    " * `is_done`: True if the MDP has just finished, False if still in progress\n",
    " * `info`: some auxiliary stuff about what just happened. For now, ignore it."
   ]
  },
  {
   "cell_type": "code",
   "execution_count": null,
   "metadata": {
    "id": "n-PpR8BKxsQ6",
    "colab": {
     "base_uri": "https://localhost:8080/"
    },
    "outputId": "4a6dd749-296b-4ab1-a57b-3a9ee75565e8"
   },
   "outputs": [
    {
     "output_type": "stream",
     "name": "stdout",
     "text": [
      "initial observation code: -0.5526259 0.0\n"
     ]
    }
   ],
   "source": [
    "print(\"initial observation code:\", *env.reset())\n",
    "\n",
    "# Note: in MountainCar, observation is just two numbers: car position and velocity"
   ]
  },
  {
   "cell_type": "code",
   "execution_count": null,
   "metadata": {
    "id": "l4ivDC8ZxsQ6",
    "colab": {
     "base_uri": "https://localhost:8080/"
    },
    "outputId": "b23f58d2-fb68-4ee9-c6bc-7e550d6dacf8"
   },
   "outputs": [
    {
     "output_type": "stream",
     "name": "stdout",
     "text": [
      "taking action 2 (right)\n",
      "new observation code: [-0.54898274  0.00242576]\n",
      "reward: -1.0\n",
      "is game over?: False\n"
     ]
    }
   ],
   "source": [
    "print(\"taking action 2 (right)\")\n",
    "new_obs, reward, is_done, _ = env.step(2)\n",
    "\n",
    "print(\"new observation code:\", new_obs)\n",
    "print(\"reward:\", reward)\n",
    "print(\"is game over?:\", is_done)\n",
    "\n",
    "# Note: as you can see, the car has moved to the right slightly (around 0.0005)"
   ]
  },
  {
   "cell_type": "markdown",
   "metadata": {
    "id": "IQ3Djw8-xsQ6"
   },
   "source": [
    "## Play with it\n",
    "\n",
    "Below is the code that drives the car to the right. However, if you simply use the default policy, the car will not reach the flag at the far right due to gravity.\n",
    "\n",
    "__Your task__ is to fix it. Find a strategy that reaches the flag.\n",
    "\n",
    "You are not required to build any sophisticated algorithms for now, and you definitely don't need to know any reinforcement learning for this. Feel free to hard-code :)"
   ]
  },
  {
   "cell_type": "code",
   "execution_count": null,
   "metadata": {
    "id": "rL896xxBxsQ7"
   },
   "outputs": [],
   "source": [
    "from IPython.display import display\n",
    "\n",
    "# Create env manually to set time limit. Please don't change this.\n",
    "TIME_LIMIT = 250\n",
    "env = gym.wrappers.TimeLimit(\n",
    "    gym.envs.classic_control.MountainCarEnv(),\n",
    "    max_episode_steps=TIME_LIMIT + 1,\n",
    ")\n",
    "actions = {'left': 0, 'stop': 1, 'right': 2}; clear_output()"
   ]
  },
  {
   "cell_type": "code",
   "execution_count": null,
   "metadata": {
    "id": "8GsR1YeLxsQ7"
   },
   "outputs": [],
   "source": [
    "def policy(obs, t):\n",
    "    position, velocity = obs\n",
    "    if velocity < 0:\n",
    "        return actions['left']\n",
    "    else:\n",
    "        return actions['right']"
   ]
  },
  {
   "cell_type": "code",
   "execution_count": null,
   "metadata": {
    "id": "UFAU12GpxsQ7",
    "colab": {
     "base_uri": "https://localhost:8080/",
     "height": 272
    },
    "outputId": "c8528007-b3fb-43e2-b5bb-afb5c60eb76d"
   },
   "outputs": [
    {
     "output_type": "display_data",
     "data": {
      "text/plain": [
       "<Figure size 400x300 with 1 Axes>"
      ],
      "image/png": "[encoded data removed]"
     },
     "metadata": {}
    }
   ],
   "source": [
    "plt.figure(figsize=(4, 3))\n",
    "clear_output(wait=True)\n",
    "\n",
    "obs = env.reset()\n",
    "for t in range(TIME_LIMIT):\n",
    "    plt.gca().clear()\n",
    "\n",
    "    action = policy(obs, t)  # Call your policy\n",
    "    obs, reward, done, _ = env.step(action)  # Pass the action chosen by the policy to the environment\n",
    "\n",
    "    # We don't do anything with reward here because MountainCar is a very simple environment,\n",
    "    # and reward is a constant -1. Therefore, your goal is to end the episode as quickly as possible.\n",
    "\n",
    "    # Draw game image on display.\n",
    "    plt.imshow(env.render('rgb_array'))\n",
    "\n",
    "    display(plt.gcf())\n",
    "    clear_output(wait=True)\n",
    "\n",
    "    if done:\n",
    "        print(\"Well done!\")\n",
    "        break\n",
    "else:\n",
    "    print(\"Time limit exceeded. Try again.\")\n",
    "\n",
    "clear_output(wait=True)"
   ]
  },
  {
   "cell_type": "code",
   "execution_count": null,
   "metadata": {
    "id": "43FZXYlwxsQ7",
    "colab": {
     "base_uri": "https://localhost:8080/"
    },
    "outputId": "5b44fd1e-ae5b-4e7d-adb5-5a3eaa37f267"
   },
   "outputs": [
    {
     "output_type": "stream",
     "name": "stdout",
     "text": [
      "You solved it!\n"
     ]
    }
   ],
   "source": [
    "assert obs[0] > 0.47\n",
    "print(\"You solved it!\")"
   ]
  },
  {
   "cell_type": "markdown",
   "source": [
    "# Task 2. CartPole"
   ],
   "metadata": {
    "id": "A5yGhOuhLGQS"
   }
  },
  {
   "cell_type": "markdown",
   "source": [
    "Just like we did before for Q-learning, this time we'll design a PyTorch network to learn `CartPole-v0` via policy gradient (REINFORCE).\n",
    "\n",
    "Most of the code in this notebook is taken from approximate Q-learning, so you'll find it more or less familiar and even simpler."
   ],
   "metadata": {
    "id": "CD9IgIE_LOMo"
   }
  },
  {
   "cell_type": "code",
   "source": [
    "!pip install -q gym[classic_control]==0.26.0\n",
    "!pip install moviepy\n",
    "!apt install ffmpeg\n",
    "!pip install imageio-ffmpeg\n",
    "\n",
    "install_xvfb()"
   ],
   "metadata": {
    "id": "QPlZ5uT_Qs83"
   },
   "execution_count": null,
   "outputs": []
  },
  {
   "cell_type": "code",
   "source": [
    "from IPython.display import clear_output\n",
    "\n",
    "import gym\n",
    "print(f'gym version: {gym.__version__}')\n",
    "assert tuple(map(int, gym.__version__.split('.')))[:2] >= (0, 26)\n",
    "import numpy as np\n",
    "import matplotlib.pyplot as plt\n",
    "%matplotlib inline"
   ],
   "metadata": {
    "colab": {
     "base_uri": "https://localhost:8080/"
    },
    "id": "AHYhuqB6LdgV",
    "outputId": "eabd9705-4001-4ae4-d8ea-f44e8b360a81"
   },
   "execution_count": null,
   "outputs": [
    {
     "output_type": "stream",
     "name": "stdout",
     "text": [
      "gym version: 0.26.0\n"
     ]
    }
   ]
  },
  {
   "cell_type": "markdown",
   "source": [
    "A caveat: with some versions of `pyglet`, the following cell may crash with `NameError: name 'base' is not defined`. The corresponding bug report is [here](https://github.com/pyglet/pyglet/issues/134). If you see this error, try restarting the kernel."
   ],
   "metadata": {
    "id": "_8RzpzrGL_df"
   }
  },
  {
   "cell_type": "code",
   "source": [
    "env = gym.make(\"CartPole-v0\", render_mode = \"rgb_array\")\n",
    "\n",
    "# gym compatibility: unwrap TimeLimit\n",
    "if hasattr(env, '_max_episode_steps'):\n",
    "    env = env.env\n",
    "\n",
    "env.reset()\n",
    "n_actions = env.action_space.n\n",
    "state_dim = env.observation_space.shape\n",
    "\n",
    "plt.imshow(env.render()); clear_output()"
   ],
   "metadata": {
    "colab": {
     "base_uri": "https://localhost:8080/",
     "height": 396
    },
    "id": "D7B5NrlvLz1O",
    "outputId": "b583ffcc-3333-4ad2-9669-d9dd8030f6e4"
   },
   "execution_count": null,
   "outputs": [
    {
     "output_type": "display_data",
     "data": {
      "text/plain": [
       "<Figure size 640x480 with 1 Axes>"
      ],
      "image/png": "[encoded data removed]"
     },
     "metadata": {}
    }
   ]
  },
  {
   "cell_type": "code",
   "source": [
    "import torch\n",
    "import torch.nn as nn"
   ],
   "metadata": {
    "id": "sCAbR_F1MIcP"
   },
   "execution_count": null,
   "outputs": []
  },
  {
   "cell_type": "code",
   "source": [
    "model = nn.Sequential(nn.Sequential(nn.Linear(4, 100), nn.ReLU(), nn.Linear(100, 2)))"
   ],
   "metadata": {
    "id": "ke67Lg-uMKrZ"
   },
   "execution_count": null,
   "outputs": []
  },
  {
   "cell_type": "markdown",
   "source": [
    "## Predict function"
   ],
   "metadata": {
    "id": "CEYd_hBKMOD2"
   }
  },
  {
   "cell_type": "markdown",
   "source": [
    "Note: output value of this function is not a torch tensor, it's a numpy array.\n",
    "So, here gradient calculation is not needed.\n",
    "<br>\n",
    "Use [no_grad](https://pytorch.org/docs/stable/autograd.html#torch.autograd.no_grad)\n",
    "to suppress gradient calculation.\n",
    "<br>\n",
    "Also, `.detach()` (or legacy `.data` property) can be used instead, but there is a difference:\n",
    "<br>\n",
    "With `.detach()` computational graph is built but then disconnected from a particular tensor,\n",
    "so `.detach()` should be used if that graph is needed for backprop via some other (not detached) tensor;\n",
    "<br>\n",
    "In contrast, no graph is built by any operation in `no_grad()` context, thus it's preferable here."
   ],
   "metadata": {
    "id": "0n76Z9-5MO9p"
   }
  },
  {
   "cell_type": "code",
   "source": [
    "def predict_probs(states):\n",
    "    \"\"\"\n",
    "    Predict action probabilities given states.\n",
    "    :param states: numpy array of shape [batch, state_shape]\n",
    "    :returns: numpy array of shape [batch, n_actions]\n",
    "    \"\"\"\n",
    "    return model(torch.as_tensor(states)).softmax(dim=-1).data.numpy()"
   ],
   "metadata": {
    "id": "Lj6U9IQzMMFa"
   },
   "execution_count": null,
   "outputs": []
  },
  {
   "cell_type": "code",
   "source": [
    "test_states = np.array([env.reset()[0] for _ in range(5)])\n",
    "test_probas = predict_probs(test_states)\n",
    "assert isinstance(test_probas, np.ndarray), \\\n",
    "    \"you must return np array and not %s\" % type(test_probas)\n",
    "assert tuple(test_probas.shape) == (test_states.shape[0], env.action_space.n), \\\n",
    "    \"wrong output shape: %s\" % np.shape(test_probas)\n",
    "assert np.allclose(np.sum(test_probas, axis=1), 1), \"probabilities do not sum to 1\""
   ],
   "metadata": {
    "id": "EoTskWaKMYXU"
   },
   "execution_count": null,
   "outputs": []
  },
  {
   "cell_type": "markdown",
   "source": [
    "## Play the game"
   ],
   "metadata": {
    "id": "6gI62ZdQMbMN"
   }
  },
  {
   "cell_type": "markdown",
   "source": [
    "We can now use our newly built agent to play the game."
   ],
   "metadata": {
    "id": "lzi_FbgjMcvs"
   }
  },
  {
   "cell_type": "code",
   "source": [
    "state, _ = env.reset()"
   ],
   "metadata": {
    "id": "KPAL3sHwMpeD"
   },
   "execution_count": null,
   "outputs": []
  },
  {
   "cell_type": "code",
   "source": [
    "predict_probs(np.array([state])).squeeze(0)"
   ],
   "metadata": {
    "colab": {
     "base_uri": "https://localhost:8080/"
    },
    "id": "qwavmkSAM6FG",
    "outputId": "5fe5261e-dcd4-4dea-864e-ca4451806d4f"
   },
   "execution_count": null,
   "outputs": [
    {
     "output_type": "execute_result",
     "data": {
      "text/plain": [
       "array([0.58701223, 0.4129877 ], dtype=float32)"
      ]
     },
     "metadata": {},
     "execution_count": 11
    }
   ]
  },
  {
   "cell_type": "code",
   "source": [
    "def generate_session(env, t_max=1000, video_file = None):\n",
    "    \"\"\"\n",
    "    Play a full session with REINFORCE agent.\n",
    "    Returns sequences of states, actions, and rewards.\n",
    "    \"\"\"\n",
    "    # arrays to record session\n",
    "    states, actions, rewards = [], [], []\n",
    "\n",
    "    state, _ = env.reset()\n",
    "\n",
    "    if video_file is not None:\n",
    "        video = VideoRecorder(env, video_file)\n",
    "\n",
    "    for t in range(t_max):\n",
    "        # action probabilities array aka pi(a|s)\n",
    "        action_probs = predict_probs(np.array([state])).squeeze(0)\n",
    "\n",
    "        # Sample action with given probabilities.\n",
    "        action = np.random.choice(a=np.arange(0, len(action_probs)), p=action_probs)\n",
    "\n",
    "        if video_file is not None:\n",
    "            env.render()\n",
    "            video.capture_frame()\n",
    "\n",
    "        states.append(state)\n",
    "        state, reward, is_done, _, _ = env.step(action)\n",
    "\n",
    "        actions.append(action)\n",
    "        rewards.append(reward)\n",
    "\n",
    "        if is_done: break\n",
    "\n",
    "    if video_file is not None:\n",
    "        video.close()\n",
    "\n",
    "    return states, actions, rewards"
   ],
   "metadata": {
    "id": "Y-Cn-mtBMZR2"
   },
   "execution_count": null,
   "outputs": []
  },
  {
   "cell_type": "code",
   "source": [
    "# test it\n",
    "states, actions, rewards = generate_session(env)"
   ],
   "metadata": {
    "id": "IcAqPRddTvGI"
   },
   "execution_count": null,
   "outputs": []
  },
  {
   "cell_type": "markdown",
   "source": [
    "## Computing cumulative rewards"
   ],
   "metadata": {
    "id": "lfaWki3mT1rU"
   }
  },
  {
   "cell_type": "markdown",
   "source": [
    "$$\n",
    "\\begin{align*}\n",
    "G_t &= r_t + \\gamma r_{t + 1} + \\gamma^2 r_{t + 2} + \\ldots = \\sum_{i = t}^T \\gamma^{i - t} r_i = r_t + \\gamma * G_{t + 1}\n",
    "\\end{align*}\n",
    "$$"
   ],
   "metadata": {
    "id": "jPprbonwT4D7"
   }
  },
  {
   "cell_type": "code",
   "source": [
    "def get_cumulative_rewards(rewards,  # rewards at each step\n",
    "                           gamma=0.99  # discount for reward\n",
    "                           ):\n",
    "    \"\"\"\n",
    "    Take a list of immediate rewards r(s,a) for the whole session\n",
    "    and compute cumulative returns (a.k.a. G(s,a) in Sutton '16).\n",
    "\n",
    "    G_t = r_t + gamma*r_{t+1} + gamma^2*r_{t+2} + ...\n",
    "\n",
    "    A simple way to compute cumulative rewards is to iterate from the last\n",
    "    to the first timestep and compute G_t = r_t + gamma*G_{t+1} recurrently\n",
    "\n",
    "    You must return an array/list of cumulative rewards with as many elements as in the initial rewards.\n",
    "    \"\"\"\n",
    "    G = [rewards[-1]] * len(rewards)\n",
    "    for i in reversed(range(len(rewards) - 1)):\n",
    "        G[i] = rewards[i] + gamma * G[i + 1]\n",
    "    return G"
   ],
   "metadata": {
    "id": "hBYQse1iTxYR"
   },
   "execution_count": null,
   "outputs": []
  },
  {
   "cell_type": "code",
   "source": [
    "get_cumulative_rewards(rewards)\n",
    "assert len(get_cumulative_rewards(list(range(100)))) == 100\n",
    "assert np.allclose(\n",
    "    get_cumulative_rewards([0, 0, 1, 0, 0, 1, 0], gamma=0.9),\n",
    "    [1.40049, 1.5561, 1.729, 0.81, 0.9, 1.0, 0.0])\n",
    "assert np.allclose(\n",
    "    get_cumulative_rewards([0, 0, 1, -2, 3, -4, 0], gamma=0.5),\n",
    "    [0.0625, 0.125, 0.25, -1.5, 1.0, -4.0, 0.0])\n",
    "assert np.allclose(\n",
    "    get_cumulative_rewards([0, 0, 1, 2, 3, 4, 0], gamma=0),\n",
    "    [0, 0, 1, 2, 3, 4, 0])\n",
    "print(\"looks good!\")"
   ],
   "metadata": {
    "colab": {
     "base_uri": "https://localhost:8080/"
    },
    "id": "p1YrGlnKT-Yf",
    "outputId": "ea97bff4-c3bc-4517-99aa-0a4750b6b4e2"
   },
   "execution_count": null,
   "outputs": [
    {
     "output_type": "stream",
     "name": "stdout",
     "text": [
      "looks good!\n"
     ]
    }
   ]
  },
  {
   "cell_type": "markdown",
   "source": [
    "## Loss function and updates"
   ],
   "metadata": {
    "id": "iHYdEveYUBDz"
   }
  },
  {
   "cell_type": "markdown",
   "source": [
    "We now need to define objective and update over policy gradient.\n",
    "\n",
    "Our objective function is\n",
    "\n",
    "$$ J \\approx  { 1 \\over N } \\sum_{s_i,a_i} G(s_i,a_i) $$\n",
    "\n",
    "REINFORCE defines a way to compute the gradient of the expected reward with respect to policy parameters. The formula is as follows:\n",
    "\n",
    "$$ \\nabla_\\theta \\hat J(\\theta) \\approx { 1 \\over N } \\sum_{s_i, a_i} \\nabla_\\theta \\log \\pi_\\theta (a_i \\mid s_i) \\cdot G_t(s_i, a_i) $$\n",
    "\n",
    "We can abuse PyTorch's capabilities for automatic differentiation by defining our objective function as follows:\n",
    "\n",
    "$$ \\hat J(\\theta) \\approx { 1 \\over N } \\sum_{s_i, a_i} \\log \\pi_\\theta (a_i \\mid s_i) \\cdot G_t(s_i, a_i) $$\n",
    "\n",
    "When you compute the gradient of that function with respect to network weights $\\theta$, it will become exactly the policy gradient."
   ],
   "metadata": {
    "id": "fStgCr1DUC_d"
   }
  },
  {
   "cell_type": "code",
   "source": [
    "def to_one_hot(y_tensor, ndims):\n",
    "    \"\"\" helper: take an integer vector and convert it to 1-hot matrix. \"\"\"\n",
    "    y_tensor = y_tensor.type(torch.LongTensor).view(-1, 1)\n",
    "    y_one_hot = torch.zeros(\n",
    "        y_tensor.size()[0], ndims).scatter_(1, y_tensor, 1)\n",
    "    return y_one_hot"
   ],
   "metadata": {
    "id": "mWw-7sbcT_fW"
   },
   "execution_count": null,
   "outputs": []
  },
  {
   "cell_type": "code",
   "source": [
    "# Your code: define optimizers\n",
    "optimizer = torch.optim.Adam(model.parameters(), 1e-3)\n",
    "\n",
    "\n",
    "def train_on_session(states, actions, rewards, gamma=0.99, entropy_coef=1e-2):\n",
    "    \"\"\"\n",
    "    Takes a sequence of states, actions and rewards produced by generate_session.\n",
    "    Updates agent's weights by following the policy gradient above.\n",
    "    Please use Adam optimizer with default parameters.\n",
    "    \"\"\"\n",
    "\n",
    "    # cast everything into torch tensors\n",
    "    states = torch.tensor(states, dtype=torch.float32)\n",
    "    actions = torch.tensor(actions, dtype=torch.int32)\n",
    "    cumulative_returns = np.array(get_cumulative_rewards(rewards, gamma))\n",
    "    cumulative_returns = torch.tensor(cumulative_returns, dtype=torch.float32)\n",
    "\n",
    "    # predict logits, probas and log-probas using an agent.\n",
    "    logits = model(states)\n",
    "    probs = nn.functional.softmax(logits, -1)\n",
    "    log_probs = nn.functional.log_softmax(logits, -1)\n",
    "\n",
    "    assert all(isinstance(v, torch.Tensor) for v in [logits, probs, log_probs]), \\\n",
    "        \"please use compute using torch tensors and don't use predict_probs function\"\n",
    "\n",
    "    # select log-probabilities for chosen actions, log pi(a_i|s_i)\n",
    "    log_probs_for_actions = torch.sum(log_probs * to_one_hot(actions, env.action_space.n), dim=1)\n",
    "\n",
    "    # Compute loss here. Don't forgen entropy regularization with `entropy_coef`\n",
    "    entropy = - (log_probs * probs).sum(dim=1)\n",
    "    loss = - log_probs_for_actions * cumulative_returns - entropy * entropy_coef\n",
    "\n",
    "    # Gradient descent step\n",
    "    loss.mean().backward()\n",
    "    optimizer.step()\n",
    "    optimizer.zero_grad()\n",
    "\n",
    "    # technical: return session rewards to print them later\n",
    "    return np.sum(rewards)"
   ],
   "metadata": {
    "id": "41IZAM6kUEtE"
   },
   "execution_count": null,
   "outputs": []
  },
  {
   "cell_type": "markdown",
   "source": [
    "## The actual training"
   ],
   "metadata": {
    "id": "HOTkCc_fUMFd"
   }
  },
  {
   "cell_type": "code",
   "source": [
    "model = nn.Sequential(nn.Sequential(nn.Linear(4, 100), nn.ReLU(), nn.Linear(100, 2)))\n",
    "optimizer = torch.optim.Adam(model.parameters(), 1e-3)\n",
    "\n",
    "for i in range(100):\n",
    "    rewards = [train_on_session(*generate_session(env)) for _ in range(100)]  # generate new sessions\n",
    "\n",
    "    print(\"mean reward:%.3f\" % (np.mean(rewards)))\n",
    "\n",
    "    if np.mean(rewards) > 500:\n",
    "        print(\"You Win!\")  # but you can train even further\n",
    "        break"
   ],
   "metadata": {
    "colab": {
     "base_uri": "https://localhost:8080/"
    },
    "id": "n3_WkU0AUIDh",
    "outputId": "67bb87c8-a1fa-4eea-8bfc-44a45bf02da5"
   },
   "execution_count": null,
   "outputs": [
    {
     "output_type": "stream",
     "name": "stdout",
     "text": [
      "mean reward:19.780\n",
      "mean reward:24.650\n",
      "mean reward:32.770\n",
      "mean reward:29.820\n",
      "mean reward:35.510\n",
      "mean reward:50.630\n",
      "mean reward:59.290\n",
      "mean reward:77.430\n",
      "mean reward:127.460\n",
      "mean reward:153.360\n",
      "mean reward:217.280\n",
      "mean reward:223.840\n",
      "mean reward:172.760\n",
      "mean reward:201.930\n",
      "mean reward:94.590\n",
      "mean reward:123.250\n",
      "mean reward:386.230\n",
      "mean reward:317.560\n",
      "mean reward:378.960\n",
      "mean reward:304.530\n",
      "mean reward:365.270\n",
      "mean reward:385.180\n",
      "mean reward:373.820\n",
      "mean reward:532.260\n",
      "You Win!\n"
     ]
    }
   ]
  },
  {
   "cell_type": "markdown",
   "source": [
    "## Results & video"
   ],
   "metadata": {
    "id": "hJJKSwu0URkQ"
   }
  },
  {
   "cell_type": "code",
   "source": [
    "# Record sessions\n",
    "import os\n",
    "from gym.wrappers.monitoring.video_recorder import VideoRecorder\n",
    "\n",
    "if not os.path.exists('videos'):\n",
    "    os.makedirs('videos')\n",
    "\n",
    "sessions = [\n",
    "    generate_session(\n",
    "        gym.make(\"CartPole-v0\", render_mode = \"rgb_array\"),  video_file = f'videos/CartPole_session_{i}.mp4')\n",
    "    for i in range(2)]"
   ],
   "metadata": {
    "colab": {
     "base_uri": "https://localhost:8080/"
    },
    "id": "K6L1bXSVUKMF",
    "outputId": "4aa66d59-b1dd-4c1b-96b7-e1e845e5fb27"
   },
   "execution_count": null,
   "outputs": [
    {
     "output_type": "stream",
     "name": "stderr",
     "text": []
    },
    {
     "output_type": "stream",
     "name": "stdout",
     "text": [
      "Moviepy - Done !\n",
      "Moviepy - video ready videos/CartPole_session_1.mp4\n"
     ]
    }
   ]
  },
  {
   "cell_type": "code",
   "source": [
    "# Show video. This may not work in some setups. If it doesn't\n",
    "# work for you, you can download the videos and view them locally.\n",
    "import sys\n",
    "from pathlib import Path\n",
    "from base64 import b64encode\n",
    "from IPython.display import HTML\n",
    "\n",
    "video_paths = sorted([s for s in Path('videos').iterdir() if s.suffix == '.mp4'])\n",
    "video_path = video_paths[-1]  # You can also try other indices\n",
    "\n",
    "if 'google.colab' in sys.modules:\n",
    "    # https://stackoverflow.com/a/57378660/1214547\n",
    "    with video_path.open('rb') as fp:\n",
    "        mp4 = fp.read()\n",
    "    data_url = 'data:video/mp4;base64,' + b64encode(mp4).decode()\n",
    "else:\n",
    "    data_url = str(video_path)\n",
    "\n",
    "HTML(\"\"\"\n",
    "<video width=\"640\" height=\"480\" controls>\n",
    "  <source src=\"{}\" type=\"video/mp4\">\n",
    "</video>\n",
    "\"\"\".format(data_url))"
   ],
   "metadata": {
    "colab": {
     "base_uri": "https://localhost:8080/",
     "height": 501
    },
    "id": "70pB1I4NUmRw",
    "outputId": "29c2ade4-10ef-4119-e2d5-af2586fa9a03"
   },
   "execution_count": null,
   "outputs": [
    {
     "output_type": "execute_result",
     "data": {
      "text/plain": [
       "<IPython.core.display.HTML object>"
      ],
      "text/html": [
       "\n",
       "<video width=\"640\" height=\"480\" controls>\n",
       "  <source src=\"data:video/mp4;base64,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\" type=\"video/mp4\">\n",
       "</video>\n"
      ]
     },
     "metadata": {},
     "execution_count": 18
    }
   ]
  }
 ],
 "metadata": {
  "language_info": {
   "name": "python"
  },
  "colab": {
   "provenance": [],
   "collapsed_sections": [
    "T4yvrw2ETBvk"
   ]
  },
  "kernelspec": {
   "name": "python3",
   "display_name": "Python 3"
  }
 },
 "nbformat": 4,
 "nbformat_minor": 0
}
